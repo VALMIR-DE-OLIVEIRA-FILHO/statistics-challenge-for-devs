{
 "cells": [
  {
   "cell_type": "code",
   "execution_count": 36,
   "id": "5aa8a135",
   "metadata": {},
   "outputs": [
    {
     "name": "stdout",
     "output_type": "stream",
     "text": [
      "2.2.3\n"
     ]
    }
   ],
   "source": [
    "#importando o pandas e checkando a versão\n",
    "import pandas as pd\n",
    "print(pd.__version__)\n"
   ]
  },
  {
   "cell_type": "code",
   "execution_count": 37,
   "id": "e5497547",
   "metadata": {},
   "outputs": [
    {
     "data": {
      "text/plain": [
       "{'data_ref': ['2024-05-01',\n",
       "  '2024-06-01',\n",
       "  '2024-07-01',\n",
       "  '2024-08-01',\n",
       "  '2024-09-01',\n",
       "  '2024-10-01',\n",
       "  '2024-11-01',\n",
       "  '2024-12-01',\n",
       "  '2025-01-01',\n",
       "  '2025-02-01'],\n",
       " 'valor': [785000,\n",
       "  612000,\n",
       "  943000,\n",
       "  504000,\n",
       "  873000,\n",
       "  328000,\n",
       "  759000,\n",
       "  661000,\n",
       "  832000,\n",
       "  410000]}"
      ]
     },
     "execution_count": 37,
     "metadata": {},
     "output_type": "execute_result"
    }
   ],
   "source": [
    "dict_faturamento = {\n",
    "    'data_ref': [\n",
    "        '2024-05-01',\n",
    "        '2024-06-01',\n",
    "        '2024-07-01',\n",
    "        '2024-08-01',\n",
    "        '2024-09-01',\n",
    "        '2024-10-01',\n",
    "        '2024-11-01',\n",
    "        '2024-12-01',\n",
    "        '2025-01-01',\n",
    "        '2025-02-01',\n",
    "    ],\n",
    "    'valor': [\n",
    "        785000,\n",
    "        612000,\n",
    "        943000,\n",
    "        504000,\n",
    "        873000,\n",
    "        328000,\n",
    "        759000,\n",
    "        661000,\n",
    "        832000,\n",
    "        410000,\n",
    "    ]\n",
    "}\n",
    "dict_faturamento "
   ]
  },
  {
   "cell_type": "code",
   "execution_count": 38,
   "id": "528576de",
   "metadata": {},
   "outputs": [
    {
     "data": {
      "text/html": [
       "<div>\n",
       "<style scoped>\n",
       "    .dataframe tbody tr th:only-of-type {\n",
       "        vertical-align: middle;\n",
       "    }\n",
       "\n",
       "    .dataframe tbody tr th {\n",
       "        vertical-align: top;\n",
       "    }\n",
       "\n",
       "    .dataframe thead th {\n",
       "        text-align: right;\n",
       "    }\n",
       "</style>\n",
       "<table border=\"1\" class=\"dataframe\">\n",
       "  <thead>\n",
       "    <tr style=\"text-align: right;\">\n",
       "      <th></th>\n",
       "      <th>data_ref</th>\n",
       "      <th>valor</th>\n",
       "    </tr>\n",
       "  </thead>\n",
       "  <tbody>\n",
       "    <tr>\n",
       "      <th>0</th>\n",
       "      <td>2024-05-01</td>\n",
       "      <td>785000</td>\n",
       "    </tr>\n",
       "    <tr>\n",
       "      <th>1</th>\n",
       "      <td>2024-06-01</td>\n",
       "      <td>612000</td>\n",
       "    </tr>\n",
       "    <tr>\n",
       "      <th>2</th>\n",
       "      <td>2024-07-01</td>\n",
       "      <td>943000</td>\n",
       "    </tr>\n",
       "    <tr>\n",
       "      <th>3</th>\n",
       "      <td>2024-08-01</td>\n",
       "      <td>504000</td>\n",
       "    </tr>\n",
       "    <tr>\n",
       "      <th>4</th>\n",
       "      <td>2024-09-01</td>\n",
       "      <td>873000</td>\n",
       "    </tr>\n",
       "    <tr>\n",
       "      <th>5</th>\n",
       "      <td>2024-10-01</td>\n",
       "      <td>328000</td>\n",
       "    </tr>\n",
       "    <tr>\n",
       "      <th>6</th>\n",
       "      <td>2024-11-01</td>\n",
       "      <td>759000</td>\n",
       "    </tr>\n",
       "    <tr>\n",
       "      <th>7</th>\n",
       "      <td>2024-12-01</td>\n",
       "      <td>661000</td>\n",
       "    </tr>\n",
       "    <tr>\n",
       "      <th>8</th>\n",
       "      <td>2025-01-01</td>\n",
       "      <td>832000</td>\n",
       "    </tr>\n",
       "    <tr>\n",
       "      <th>9</th>\n",
       "      <td>2025-02-01</td>\n",
       "      <td>410000</td>\n",
       "    </tr>\n",
       "  </tbody>\n",
       "</table>\n",
       "</div>"
      ],
      "text/plain": [
       "     data_ref   valor\n",
       "0  2024-05-01  785000\n",
       "1  2024-06-01  612000\n",
       "2  2024-07-01  943000\n",
       "3  2024-08-01  504000\n",
       "4  2024-09-01  873000\n",
       "5  2024-10-01  328000\n",
       "6  2024-11-01  759000\n",
       "7  2024-12-01  661000\n",
       "8  2025-01-01  832000\n",
       "9  2025-02-01  410000"
      ]
     },
     "execution_count": 38,
     "metadata": {},
     "output_type": "execute_result"
    }
   ],
   "source": [
    "#gerando o dataframe o dict_faturamento\n",
    "df_faturamento = pd.DataFrame(dict_faturamento)\n",
    "df_faturamento"
   ]
  },
  {
   "cell_type": "code",
   "execution_count": 39,
   "id": "7c2e8afb",
   "metadata": {},
   "outputs": [
    {
     "name": "stdout",
     "output_type": "stream",
     "text": [
      "Média de vendas: R$ 670700.0\n"
     ]
    }
   ],
   "source": [
    "#definindo a media\n",
    "media_vendas = round( df_faturamento['valor'].mean(),2)\n",
    "\n",
    "print(f'Média de vendas: R$ {media_vendas}')"
   ]
  },
  {
   "cell_type": "code",
   "execution_count": 40,
   "id": "0163c825",
   "metadata": {},
   "outputs": [
    {
     "name": "stdout",
     "output_type": "stream",
     "text": [
      "<class 'pandas.core.frame.DataFrame'>\n",
      "RangeIndex: 10 entries, 0 to 9\n",
      "Data columns (total 2 columns):\n",
      " #   Column    Non-Null Count  Dtype \n",
      "---  ------    --------------  ----- \n",
      " 0   data_ref  10 non-null     object\n",
      " 1   valor     10 non-null     int64 \n",
      "dtypes: int64(1), object(1)\n",
      "memory usage: 292.0+ bytes\n",
      "<class 'pandas.core.frame.DataFrame'>\n",
      "RangeIndex: 10 entries, 0 to 9\n",
      "Data columns (total 2 columns):\n",
      " #   Column    Non-Null Count  Dtype         \n",
      "---  ------    --------------  -----         \n",
      " 0   data_ref  10 non-null     datetime64[ns]\n",
      " 1   valor     10 non-null     int64         \n",
      "dtypes: datetime64[ns](1), int64(1)\n",
      "memory usage: 292.0 bytes\n"
     ]
    }
   ],
   "source": [
    "#coletando os infos do tipo( faturamento)\n",
    "df_faturamento.info()\n",
    "#convertendo a coluna data_ref para o tipo datetime\n",
    "df_faturamento['data_ref'] = pd.to_datetime(df_faturamento['data_ref'])\n",
    "#checando o tipo da coluna data_ref\n",
    "df_faturamento.info()"
   ]
  },
  {
   "cell_type": "code",
   "execution_count": 41,
   "id": "9d7662f9",
   "metadata": {},
   "outputs": [
    {
     "data": {
      "text/plain": [
       "<Axes: title={'center': 'Faturamento x Data'}, xlabel='data_ref'>"
      ]
     },
     "execution_count": 41,
     "metadata": {},
     "output_type": "execute_result"
    },
    {
     "data": {
      "image/png": "[encoded data removed]",
      "text/plain": [
       "<Figure size 640x480 with 1 Axes>"
      ]
     },
     "metadata": {},
     "output_type": "display_data"
    }
   ],
   "source": [
    "# Formatando a coluna data_ref para exibir apenas a data no gráfico\n",
    "df_faturamento['data_ref'] = df_faturamento['data_ref'].dt.strftime('%Y-%m-%d')\n",
    "\n",
    "##construindo o gráfico de barras (Vendas x data)\n",
    "df_faturamento.plot.bar(x='data_ref', y='valor', alpha= 0.5, color='blue', title=\"Faturamento x Data\")"
   ]
  },
  {
   "cell_type": "code",
   "execution_count": 42,
   "id": "feab3e1f",
   "metadata": {},
   "outputs": [
    {
     "data": {
      "text/plain": [
       "<Axes: title={'center': 'Faturamento x Data'}, xlabel='data_ref'>"
      ]
     },
     "execution_count": 42,
     "metadata": {},
     "output_type": "execute_result"
    },
    {
     "data": {
      "image/png": "[encoded data removed]",
      "text/plain": [
       "<Figure size 640x480 with 1 Axes>"
      ]
     },
     "metadata": {},
     "output_type": "display_data"
    }
   ],
   "source": [
    "#gerando o gráfico de linhas (Vendas x data)\n",
    "df_faturamento.plot.line(x='data_ref', y='valor', alpha= 0.5, color='red', title=\"Faturamento x Data\")"
   ]
  }
 ],
 "metadata": {
  "kernelspec": {
   "display_name": "statistics-challenge-for-devs-hh4sdGke",
   "language": "python",
   "name": "python3"
  },
  "language_info": {
   "codemirror_mode": {
    "name": "ipython",
    "version": 3
   },
   "file_extension": ".py",
   "mimetype": "text/x-python",
   "name": "python",
   "nbconvert_exporter": "python",
   "pygments_lexer": "ipython3",
   "version": "3.13.0"
  }
 },
 "nbformat": 4,
 "nbformat_minor": 5
}
